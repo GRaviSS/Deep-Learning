{
 "cells": [
  {
   "cell_type": "markdown",
   "metadata": {},
   "source": [
    "<center><h1 style='color: #354E3E; font-size: 40px'>Deep Learning</h1></center>\n",
    "<center><h2 style='color: #489565; font-size: 19px'>Football Prediction - Premier League</h2></center>\n",
    "<center><h2 style='color: #fa8f4d; font-size: 16px'>Group 04</h2></center>\n",
    "<center><h5 style='font-weight:normal; font-style: normal;'>Abdallah Zaher, M20190684</h5></center>\n",
    "<center><h5 style='font-weight:normal; font-style: normal;'>Cristina Mousinho, M20190303</h5></center>\n",
    "<center><h5 style='font-weight:normal; font-style: normal;'>Gabriel Ravi Santos, M20190925</h5></center>"
   ]
  },
  {
   "cell_type": "markdown",
   "metadata": {},
   "source": [
    "<b style='color: #354E3E;font-size:23px'>Table of contents</b>\n",
    "<ul>\n",
    "    <li style='color: #489565'><a href=\"#introduction\">Introduction</a></li>\n",
    "    <li style='color: #489565'><a href=\"#data_understanding\">Data Understanding</a></li>\n",
    "    <li style='color: #489565'><a href=\"#data_preparation\">Data Preparation</a></li>\n",
    "    <li style='color: #489565'><a href=\"#modelling\">Modelling</a></li>\n",
    "    <li style='color: #489565'><a href=\"#predictions\">Predictions</a></li>\n",
    "    <li style='color: #489565'><a href=\"#conclusion\">Conclusion</a></li>\n",
    "    <li style='color: #489565'><a href=\"#references\">References</a></li>\n",
    "    <li style='color: #489565'><a href=\"#appendix\">Appendix</a></li>\n",
    "</ul>\n"
   ]
  },
  {
   "cell_type": "markdown",
   "metadata": {},
   "source": [
    "<hr>\n",
    "<b style='color: #354E3E;font-size:23px' id=\"introduction\"> Introduction</b>"
   ]
  },
  {
   "cell_type": "markdown",
   "metadata": {},
   "source": [
    "aaaaaaaaaaaaaaaaaaaaaaaaaaaaaaaaaaaaaaaaaaaaaaaaaaaaaaaaaaaaaaaaaaa"
   ]
  },
  {
   "cell_type": "markdown",
   "metadata": {},
   "source": [
    "<hr>\n",
    "<b style='color: #354E3E;font-size:23px' id=\"data_understanding\"> Data Understanding</b>"
   ]
  },
  {
   "cell_type": "markdown",
   "metadata": {},
   "source": [
    "<b style=\"color:#489565;font-size:18px\">Loading the necessary libraries</b>"
   ]
  },
  {
   "cell_type": "code",
   "execution_count": 23,
   "metadata": {},
   "outputs": [],
   "source": [
    "import pandas as pd\n",
    "import plotly.graph_objects as go"
   ]
  },
  {
   "cell_type": "markdown",
   "metadata": {},
   "source": [
    "<b style=\"color:#489565;font-size:18px\">Getting to know the data</b>"
   ]
  },
  {
   "cell_type": "code",
   "execution_count": 2,
   "metadata": {},
   "outputs": [],
   "source": [
    "season1920 = pd.read_csv('https://www.football-data.co.uk/mmz4281/1920/E0.csv')\n",
    "season1819 = pd.read_csv('https://www.football-data.co.uk/mmz4281/1819/E0.csv')\n",
    "season1718 = pd.read_csv('https://www.football-data.co.uk/mmz4281/1718/E0.csv')\n",
    "season1617 = pd.read_csv('https://www.football-data.co.uk/mmz4281/1617/E0.csv')\n",
    "season1516 = pd.read_csv('https://www.football-data.co.uk/mmz4281/1516/E0.csv')\n",
    "season1415 = pd.read_csv('https://www.football-data.co.uk/mmz4281/1415/E0.csv')\n",
    "season1314 = pd.read_csv('https://www.football-data.co.uk/mmz4281/1314/E0.csv')\n",
    "season1213 = pd.read_csv('https://www.football-data.co.uk/mmz4281/1213/E0.csv')\n",
    "season1112 = pd.read_csv('https://www.football-data.co.uk/mmz4281/1112/E0.csv')\n",
    "season1011 = pd.read_csv('https://www.football-data.co.uk/mmz4281/1011/E0.csv')\n",
    "season0910 = pd.read_csv('https://www.football-data.co.uk/mmz4281/0910/E0.csv')\n",
    "season0809 = pd.read_csv('https://www.football-data.co.uk/mmz4281/0809/E0.csv')\n",
    "season0708 = pd.read_csv('https://www.football-data.co.uk/mmz4281/0708/E0.csv')\n",
    "season0607 = pd.read_csv('https://www.football-data.co.uk/mmz4281/0607/E0.csv')\n",
    "season0506 = pd.read_csv('https://www.football-data.co.uk/mmz4281/0506/E0.csv')\n",
    "\n",
    "seasons = [season1920, season1819, season1718, season1617, season1516, season1415, season1314, season1213, season1112, \n",
    "           season1011, season0910, season0809, season0708, season0607, season0506]"
   ]
  },
  {
   "cell_type": "code",
   "execution_count": 3,
   "metadata": {},
   "outputs": [],
   "source": [
    "all_seasons = season1920.append(season1819, sort=False, ignore_index=True)\n",
    "seasons = seasons[2:]\n",
    "for season in seasons:\n",
    "    all_seasons = all_seasons.append(season, sort = False, ignore_index=True)"
   ]
  },
  {
   "cell_type": "code",
   "execution_count": 4,
   "metadata": {},
   "outputs": [
    {
     "data": {
      "text/html": [
       "<div>\n",
       "<style scoped>\n",
       "    .dataframe tbody tr th:only-of-type {\n",
       "        vertical-align: middle;\n",
       "    }\n",
       "\n",
       "    .dataframe tbody tr th {\n",
       "        vertical-align: top;\n",
       "    }\n",
       "\n",
       "    .dataframe thead th {\n",
       "        text-align: right;\n",
       "    }\n",
       "</style>\n",
       "<table border=\"1\" class=\"dataframe\">\n",
       "  <thead>\n",
       "    <tr style=\"text-align: right;\">\n",
       "      <th></th>\n",
       "      <th>Div</th>\n",
       "      <th>Date</th>\n",
       "      <th>Time</th>\n",
       "      <th>HomeTeam</th>\n",
       "      <th>AwayTeam</th>\n",
       "      <th>FTHG</th>\n",
       "      <th>FTAG</th>\n",
       "      <th>FTR</th>\n",
       "      <th>HTHG</th>\n",
       "      <th>HTAG</th>\n",
       "      <th>...</th>\n",
       "      <th>SJA</th>\n",
       "      <th>GBH</th>\n",
       "      <th>GBD</th>\n",
       "      <th>GBA</th>\n",
       "      <th>BSH</th>\n",
       "      <th>BSD</th>\n",
       "      <th>BSA</th>\n",
       "      <th>SBH</th>\n",
       "      <th>SBD</th>\n",
       "      <th>SBA</th>\n",
       "    </tr>\n",
       "  </thead>\n",
       "  <tbody>\n",
       "    <tr>\n",
       "      <th>0</th>\n",
       "      <td>E0</td>\n",
       "      <td>09/08/2019</td>\n",
       "      <td>20:00</td>\n",
       "      <td>Liverpool</td>\n",
       "      <td>Norwich</td>\n",
       "      <td>4.0</td>\n",
       "      <td>1.0</td>\n",
       "      <td>H</td>\n",
       "      <td>4.0</td>\n",
       "      <td>0.0</td>\n",
       "      <td>...</td>\n",
       "      <td>NaN</td>\n",
       "      <td>NaN</td>\n",
       "      <td>NaN</td>\n",
       "      <td>NaN</td>\n",
       "      <td>NaN</td>\n",
       "      <td>NaN</td>\n",
       "      <td>NaN</td>\n",
       "      <td>NaN</td>\n",
       "      <td>NaN</td>\n",
       "      <td>NaN</td>\n",
       "    </tr>\n",
       "    <tr>\n",
       "      <th>1</th>\n",
       "      <td>E0</td>\n",
       "      <td>10/08/2019</td>\n",
       "      <td>12:30</td>\n",
       "      <td>West Ham</td>\n",
       "      <td>Man City</td>\n",
       "      <td>0.0</td>\n",
       "      <td>5.0</td>\n",
       "      <td>A</td>\n",
       "      <td>0.0</td>\n",
       "      <td>1.0</td>\n",
       "      <td>...</td>\n",
       "      <td>NaN</td>\n",
       "      <td>NaN</td>\n",
       "      <td>NaN</td>\n",
       "      <td>NaN</td>\n",
       "      <td>NaN</td>\n",
       "      <td>NaN</td>\n",
       "      <td>NaN</td>\n",
       "      <td>NaN</td>\n",
       "      <td>NaN</td>\n",
       "      <td>NaN</td>\n",
       "    </tr>\n",
       "    <tr>\n",
       "      <th>2</th>\n",
       "      <td>E0</td>\n",
       "      <td>10/08/2019</td>\n",
       "      <td>15:00</td>\n",
       "      <td>Bournemouth</td>\n",
       "      <td>Sheffield United</td>\n",
       "      <td>1.0</td>\n",
       "      <td>1.0</td>\n",
       "      <td>D</td>\n",
       "      <td>0.0</td>\n",
       "      <td>0.0</td>\n",
       "      <td>...</td>\n",
       "      <td>NaN</td>\n",
       "      <td>NaN</td>\n",
       "      <td>NaN</td>\n",
       "      <td>NaN</td>\n",
       "      <td>NaN</td>\n",
       "      <td>NaN</td>\n",
       "      <td>NaN</td>\n",
       "      <td>NaN</td>\n",
       "      <td>NaN</td>\n",
       "      <td>NaN</td>\n",
       "    </tr>\n",
       "  </tbody>\n",
       "</table>\n",
       "<p>3 rows × 139 columns</p>\n",
       "</div>"
      ],
      "text/plain": [
       "  Div        Date   Time     HomeTeam          AwayTeam  FTHG  FTAG FTR  HTHG  \\\n",
       "0  E0  09/08/2019  20:00    Liverpool           Norwich   4.0   1.0   H   4.0   \n",
       "1  E0  10/08/2019  12:30     West Ham          Man City   0.0   5.0   A   0.0   \n",
       "2  E0  10/08/2019  15:00  Bournemouth  Sheffield United   1.0   1.0   D   0.0   \n",
       "\n",
       "   HTAG  ... SJA GBH  GBD  GBA  BSH  BSD  BSA  SBH  SBD  SBA  \n",
       "0   0.0  ... NaN NaN  NaN  NaN  NaN  NaN  NaN  NaN  NaN  NaN  \n",
       "1   1.0  ... NaN NaN  NaN  NaN  NaN  NaN  NaN  NaN  NaN  NaN  \n",
       "2   0.0  ... NaN NaN  NaN  NaN  NaN  NaN  NaN  NaN  NaN  NaN  \n",
       "\n",
       "[3 rows x 139 columns]"
      ]
     },
     "execution_count": 4,
     "metadata": {},
     "output_type": "execute_result"
    }
   ],
   "source": [
    "all_seasons.head(3)"
   ]
  },
  {
   "cell_type": "code",
   "execution_count": 5,
   "metadata": {},
   "outputs": [],
   "source": [
    "all_seasons.dropna(axis=0, how=\"all\", inplace=True)\n",
    "all_seasons.dropna(axis=1, how=\"all\", inplace=True)"
   ]
  },
  {
   "cell_type": "code",
   "execution_count": 6,
   "metadata": {},
   "outputs": [],
   "source": [
    "perc_nulls = all_seasons.isna().sum()/all_seasons.shape[0]"
   ]
  },
  {
   "cell_type": "code",
   "execution_count": 7,
   "metadata": {},
   "outputs": [],
   "source": [
    "thresh_col = all_seasons.shape[0] * .85\n",
    "all_seasons = all_seasons.dropna(thresh=thresh_col,axis=1)"
   ]
  },
  {
   "cell_type": "code",
   "execution_count": 8,
   "metadata": {
    "scrolled": false
   },
   "outputs": [
    {
     "data": {
      "text/html": [
       "<div>\n",
       "<style scoped>\n",
       "    .dataframe tbody tr th:only-of-type {\n",
       "        vertical-align: middle;\n",
       "    }\n",
       "\n",
       "    .dataframe tbody tr th {\n",
       "        vertical-align: top;\n",
       "    }\n",
       "\n",
       "    .dataframe thead th {\n",
       "        text-align: right;\n",
       "    }\n",
       "</style>\n",
       "<table border=\"1\" class=\"dataframe\">\n",
       "  <thead>\n",
       "    <tr style=\"text-align: right;\">\n",
       "      <th></th>\n",
       "      <th>Div</th>\n",
       "      <th>Date</th>\n",
       "      <th>HomeTeam</th>\n",
       "      <th>AwayTeam</th>\n",
       "      <th>FTHG</th>\n",
       "      <th>FTAG</th>\n",
       "      <th>FTR</th>\n",
       "      <th>HTHG</th>\n",
       "      <th>HTAG</th>\n",
       "      <th>HTR</th>\n",
       "      <th>...</th>\n",
       "      <th>BbAv&lt;2.5</th>\n",
       "      <th>BbAH</th>\n",
       "      <th>BbAHh</th>\n",
       "      <th>BbMxAHH</th>\n",
       "      <th>BbAvAHH</th>\n",
       "      <th>BbMxAHA</th>\n",
       "      <th>BbAvAHA</th>\n",
       "      <th>LBH</th>\n",
       "      <th>LBD</th>\n",
       "      <th>LBA</th>\n",
       "    </tr>\n",
       "  </thead>\n",
       "  <tbody>\n",
       "    <tr>\n",
       "      <th>0</th>\n",
       "      <td>E0</td>\n",
       "      <td>09/08/2019</td>\n",
       "      <td>Liverpool</td>\n",
       "      <td>Norwich</td>\n",
       "      <td>4.0</td>\n",
       "      <td>1.0</td>\n",
       "      <td>H</td>\n",
       "      <td>4.0</td>\n",
       "      <td>0.0</td>\n",
       "      <td>H</td>\n",
       "      <td>...</td>\n",
       "      <td>NaN</td>\n",
       "      <td>NaN</td>\n",
       "      <td>NaN</td>\n",
       "      <td>NaN</td>\n",
       "      <td>NaN</td>\n",
       "      <td>NaN</td>\n",
       "      <td>NaN</td>\n",
       "      <td>NaN</td>\n",
       "      <td>NaN</td>\n",
       "      <td>NaN</td>\n",
       "    </tr>\n",
       "    <tr>\n",
       "      <th>1</th>\n",
       "      <td>E0</td>\n",
       "      <td>10/08/2019</td>\n",
       "      <td>West Ham</td>\n",
       "      <td>Man City</td>\n",
       "      <td>0.0</td>\n",
       "      <td>5.0</td>\n",
       "      <td>A</td>\n",
       "      <td>0.0</td>\n",
       "      <td>1.0</td>\n",
       "      <td>A</td>\n",
       "      <td>...</td>\n",
       "      <td>NaN</td>\n",
       "      <td>NaN</td>\n",
       "      <td>NaN</td>\n",
       "      <td>NaN</td>\n",
       "      <td>NaN</td>\n",
       "      <td>NaN</td>\n",
       "      <td>NaN</td>\n",
       "      <td>NaN</td>\n",
       "      <td>NaN</td>\n",
       "      <td>NaN</td>\n",
       "    </tr>\n",
       "    <tr>\n",
       "      <th>2</th>\n",
       "      <td>E0</td>\n",
       "      <td>10/08/2019</td>\n",
       "      <td>Bournemouth</td>\n",
       "      <td>Sheffield United</td>\n",
       "      <td>1.0</td>\n",
       "      <td>1.0</td>\n",
       "      <td>D</td>\n",
       "      <td>0.0</td>\n",
       "      <td>0.0</td>\n",
       "      <td>D</td>\n",
       "      <td>...</td>\n",
       "      <td>NaN</td>\n",
       "      <td>NaN</td>\n",
       "      <td>NaN</td>\n",
       "      <td>NaN</td>\n",
       "      <td>NaN</td>\n",
       "      <td>NaN</td>\n",
       "      <td>NaN</td>\n",
       "      <td>NaN</td>\n",
       "      <td>NaN</td>\n",
       "      <td>NaN</td>\n",
       "    </tr>\n",
       "  </tbody>\n",
       "</table>\n",
       "<p>3 rows × 59 columns</p>\n",
       "</div>"
      ],
      "text/plain": [
       "  Div        Date     HomeTeam          AwayTeam  FTHG  FTAG FTR  HTHG  HTAG  \\\n",
       "0  E0  09/08/2019    Liverpool           Norwich   4.0   1.0   H   4.0   0.0   \n",
       "1  E0  10/08/2019     West Ham          Man City   0.0   5.0   A   0.0   1.0   \n",
       "2  E0  10/08/2019  Bournemouth  Sheffield United   1.0   1.0   D   0.0   0.0   \n",
       "\n",
       "  HTR  ... BbAv<2.5  BbAH  BbAHh  BbMxAHH  BbAvAHH  BbMxAHA  BbAvAHA  LBH  \\\n",
       "0   H  ...      NaN   NaN    NaN      NaN      NaN      NaN      NaN  NaN   \n",
       "1   A  ...      NaN   NaN    NaN      NaN      NaN      NaN      NaN  NaN   \n",
       "2   D  ...      NaN   NaN    NaN      NaN      NaN      NaN      NaN  NaN   \n",
       "\n",
       "   LBD  LBA  \n",
       "0  NaN  NaN  \n",
       "1  NaN  NaN  \n",
       "2  NaN  NaN  \n",
       "\n",
       "[3 rows x 59 columns]"
      ]
     },
     "execution_count": 8,
     "metadata": {},
     "output_type": "execute_result"
    }
   ],
   "source": [
    "all_seasons.head(3)"
   ]
  },
  {
   "cell_type": "code",
   "execution_count": 9,
   "metadata": {},
   "outputs": [],
   "source": [
    "thresh_row = all_seasons.shape[1] * .85\n",
    "all_seasons = all_seasons.dropna(thresh=thresh_row,axis=0)"
   ]
  },
  {
   "cell_type": "code",
   "execution_count": 10,
   "metadata": {},
   "outputs": [
    {
     "data": {
      "text/html": [
       "<div>\n",
       "<style scoped>\n",
       "    .dataframe tbody tr th:only-of-type {\n",
       "        vertical-align: middle;\n",
       "    }\n",
       "\n",
       "    .dataframe tbody tr th {\n",
       "        vertical-align: top;\n",
       "    }\n",
       "\n",
       "    .dataframe thead th {\n",
       "        text-align: right;\n",
       "    }\n",
       "</style>\n",
       "<table border=\"1\" class=\"dataframe\">\n",
       "  <thead>\n",
       "    <tr style=\"text-align: right;\">\n",
       "      <th></th>\n",
       "      <th>Div</th>\n",
       "      <th>Date</th>\n",
       "      <th>HomeTeam</th>\n",
       "      <th>AwayTeam</th>\n",
       "      <th>FTHG</th>\n",
       "      <th>FTAG</th>\n",
       "      <th>FTR</th>\n",
       "      <th>HTHG</th>\n",
       "      <th>HTAG</th>\n",
       "      <th>HTR</th>\n",
       "      <th>...</th>\n",
       "      <th>BbAv&lt;2.5</th>\n",
       "      <th>BbAH</th>\n",
       "      <th>BbAHh</th>\n",
       "      <th>BbMxAHH</th>\n",
       "      <th>BbAvAHH</th>\n",
       "      <th>BbMxAHA</th>\n",
       "      <th>BbAvAHA</th>\n",
       "      <th>LBH</th>\n",
       "      <th>LBD</th>\n",
       "      <th>LBA</th>\n",
       "    </tr>\n",
       "  </thead>\n",
       "  <tbody>\n",
       "    <tr>\n",
       "      <th>288</th>\n",
       "      <td>E0</td>\n",
       "      <td>10/08/2018</td>\n",
       "      <td>Man United</td>\n",
       "      <td>Leicester</td>\n",
       "      <td>2.0</td>\n",
       "      <td>1.0</td>\n",
       "      <td>H</td>\n",
       "      <td>1.0</td>\n",
       "      <td>0.0</td>\n",
       "      <td>H</td>\n",
       "      <td>...</td>\n",
       "      <td>1.79</td>\n",
       "      <td>17.0</td>\n",
       "      <td>-0.75</td>\n",
       "      <td>1.75</td>\n",
       "      <td>1.70</td>\n",
       "      <td>2.29</td>\n",
       "      <td>2.21</td>\n",
       "      <td>NaN</td>\n",
       "      <td>NaN</td>\n",
       "      <td>NaN</td>\n",
       "    </tr>\n",
       "    <tr>\n",
       "      <th>289</th>\n",
       "      <td>E0</td>\n",
       "      <td>11/08/2018</td>\n",
       "      <td>Bournemouth</td>\n",
       "      <td>Cardiff</td>\n",
       "      <td>2.0</td>\n",
       "      <td>0.0</td>\n",
       "      <td>H</td>\n",
       "      <td>1.0</td>\n",
       "      <td>0.0</td>\n",
       "      <td>H</td>\n",
       "      <td>...</td>\n",
       "      <td>1.83</td>\n",
       "      <td>20.0</td>\n",
       "      <td>-0.75</td>\n",
       "      <td>2.20</td>\n",
       "      <td>2.13</td>\n",
       "      <td>1.80</td>\n",
       "      <td>1.75</td>\n",
       "      <td>NaN</td>\n",
       "      <td>NaN</td>\n",
       "      <td>NaN</td>\n",
       "    </tr>\n",
       "    <tr>\n",
       "      <th>290</th>\n",
       "      <td>E0</td>\n",
       "      <td>11/08/2018</td>\n",
       "      <td>Fulham</td>\n",
       "      <td>Crystal Palace</td>\n",
       "      <td>0.0</td>\n",
       "      <td>2.0</td>\n",
       "      <td>A</td>\n",
       "      <td>0.0</td>\n",
       "      <td>1.0</td>\n",
       "      <td>A</td>\n",
       "      <td>...</td>\n",
       "      <td>1.87</td>\n",
       "      <td>22.0</td>\n",
       "      <td>-0.25</td>\n",
       "      <td>2.18</td>\n",
       "      <td>2.11</td>\n",
       "      <td>1.81</td>\n",
       "      <td>1.77</td>\n",
       "      <td>NaN</td>\n",
       "      <td>NaN</td>\n",
       "      <td>NaN</td>\n",
       "    </tr>\n",
       "  </tbody>\n",
       "</table>\n",
       "<p>3 rows × 59 columns</p>\n",
       "</div>"
      ],
      "text/plain": [
       "    Div        Date     HomeTeam        AwayTeam  FTHG  FTAG FTR  HTHG  HTAG  \\\n",
       "288  E0  10/08/2018   Man United       Leicester   2.0   1.0   H   1.0   0.0   \n",
       "289  E0  11/08/2018  Bournemouth         Cardiff   2.0   0.0   H   1.0   0.0   \n",
       "290  E0  11/08/2018       Fulham  Crystal Palace   0.0   2.0   A   0.0   1.0   \n",
       "\n",
       "    HTR  ... BbAv<2.5  BbAH  BbAHh  BbMxAHH  BbAvAHH  BbMxAHA  BbAvAHA  LBH  \\\n",
       "288   H  ...     1.79  17.0  -0.75     1.75     1.70     2.29     2.21  NaN   \n",
       "289   H  ...     1.83  20.0  -0.75     2.20     2.13     1.80     1.75  NaN   \n",
       "290   A  ...     1.87  22.0  -0.25     2.18     2.11     1.81     1.77  NaN   \n",
       "\n",
       "     LBD  LBA  \n",
       "288  NaN  NaN  \n",
       "289  NaN  NaN  \n",
       "290  NaN  NaN  \n",
       "\n",
       "[3 rows x 59 columns]"
      ]
     },
     "execution_count": 10,
     "metadata": {},
     "output_type": "execute_result"
    }
   ],
   "source": [
    "all_seasons.head(3)"
   ]
  },
  {
   "cell_type": "code",
   "execution_count": 12,
   "metadata": {},
   "outputs": [
    {
     "data": {
      "text/plain": [
       "(5320, 59)"
      ]
     },
     "execution_count": 12,
     "metadata": {},
     "output_type": "execute_result"
    }
   ],
   "source": [
    "all_seasons.shape"
   ]
  },
  {
   "cell_type": "code",
   "execution_count": 11,
   "metadata": {
    "scrolled": true
   },
   "outputs": [
    {
     "name": "stdout",
     "output_type": "stream",
     "text": [
      "<class 'pandas.core.frame.DataFrame'>\n",
      "Int64Index: 5320 entries, 288 to 5608\n",
      "Data columns (total 59 columns):\n",
      "Div         5320 non-null object\n",
      "Date        5320 non-null object\n",
      "HomeTeam    5320 non-null object\n",
      "AwayTeam    5320 non-null object\n",
      "FTHG        5320 non-null float64\n",
      "FTAG        5320 non-null float64\n",
      "FTR         5320 non-null object\n",
      "HTHG        5320 non-null float64\n",
      "HTAG        5320 non-null float64\n",
      "HTR         5320 non-null object\n",
      "Referee     5320 non-null object\n",
      "HS          5320 non-null float64\n",
      "AS          5320 non-null float64\n",
      "HST         5320 non-null float64\n",
      "AST         5320 non-null float64\n",
      "HF          5320 non-null float64\n",
      "AF          5320 non-null float64\n",
      "HC          5320 non-null float64\n",
      "AC          5320 non-null float64\n",
      "HY          5320 non-null float64\n",
      "AY          5320 non-null float64\n",
      "HR          5320 non-null float64\n",
      "AR          5320 non-null float64\n",
      "B365H       5320 non-null float64\n",
      "B365D       5320 non-null float64\n",
      "B365A       5320 non-null float64\n",
      "BWH         5319 non-null float64\n",
      "BWD         5319 non-null float64\n",
      "BWA         5319 non-null float64\n",
      "IWH         5318 non-null float64\n",
      "IWD         5318 non-null float64\n",
      "IWA         5318 non-null float64\n",
      "WHH         5213 non-null float64\n",
      "WHD         5213 non-null float64\n",
      "WHA         5213 non-null float64\n",
      "VCH         5320 non-null float64\n",
      "VCD         5320 non-null float64\n",
      "VCA         5320 non-null float64\n",
      "Bb1X2       5320 non-null float64\n",
      "BbMxH       5320 non-null float64\n",
      "BbAvH       5320 non-null float64\n",
      "BbMxD       5320 non-null float64\n",
      "BbAvD       5320 non-null float64\n",
      "BbMxA       5320 non-null float64\n",
      "BbAvA       5320 non-null float64\n",
      "BbOU        5320 non-null float64\n",
      "BbMx>2.5    5320 non-null float64\n",
      "BbAv>2.5    5320 non-null float64\n",
      "BbMx<2.5    5320 non-null float64\n",
      "BbAv<2.5    5320 non-null float64\n",
      "BbAH        5310 non-null float64\n",
      "BbAHh       5310 non-null float64\n",
      "BbMxAHH     5310 non-null float64\n",
      "BbAvAHH     5310 non-null float64\n",
      "BbMxAHA     5310 non-null float64\n",
      "BbAvAHA     5310 non-null float64\n",
      "LBH         4939 non-null float64\n",
      "LBD         4939 non-null float64\n",
      "LBA         4939 non-null float64\n",
      "dtypes: float64(52), object(7)\n",
      "memory usage: 2.4+ MB\n"
     ]
    }
   ],
   "source": [
    "all_seasons.info() # Checking columns and their types"
   ]
  },
  {
   "cell_type": "markdown",
   "metadata": {},
   "source": [
    "<table style=\"width:100%\">\n",
    "  <tr style=\"background-color:#A1EDBE\">\n",
    "    <th style=\"text-align:center; font-size: 13px\">Variable</th>\n",
    "    <th style=\"text-align:center; font-size: 13px\" colspan=\"3\">Description</th>\n",
    "    <th style=\"text-align:center; font-size: 13px\">Type</th>\n",
    "    <th style=\"text-align:center; font-size: 13px\">Role</th>\n",
    "  </tr>\n",
    "  <tr>\n",
    "    <td style=\"text-align:center\">Div</td>\n",
    "    <td style=\"text-align:center\" colspan=\"3\">League Division</td>\n",
    "    <td style=\"text-align:center\">Categorical: nominal</td>\n",
    "    <td style=\"text-align:center\">????</td>\n",
    "  </tr>\n",
    "  <tr>\n",
    "    <td style=\"text-align:center\">Date </td>\n",
    "    <td style=\"text-align:center\" colspan=\"3\">Match Date (dd/mm/yy)</td>\n",
    "    <td style=\"text-align:center\">Categorical: nominal</td>\n",
    "    <td style=\"text-align:center\">????</td>\n",
    "  </tr>\n",
    "  <tr>\n",
    "    <td style=\"text-align:center\">HomeTeam</td>\n",
    "    <td style=\"text-align:center\" colspan=\"3\">Home Team</td>\n",
    "    <td style=\"text-align:center\">Categorical: nominal</td>\n",
    "    <td style=\"text-align:center\">????</td>\n",
    "  </tr>\n",
    "  <tr>\n",
    "    <td style=\"text-align:center\">AwayTeam</td>\n",
    "    <td style=\"text-align:center\" colspan=\"3\">Away Team</td>\n",
    "    <td style=\"text-align:center\">Categorical: nominal</td>\n",
    "    <td style=\"text-align:center\">????</td>\n",
    "  </tr>\n",
    "  <tr>\n",
    "    <td style=\"text-align:center\">FTHG</td>\n",
    "    <td style=\"text-align:center\" colspan=\"3\">Full Time Home Team Goals</td>\n",
    "    <td style=\"text-align:center\">Numerical: ratio</td>\n",
    "    <td style=\"text-align:center\">????</td>\n",
    "  </tr>\n",
    "  <tr>\n",
    "    <td style=\"text-align:center\">FTAG</td>\n",
    "    <td style=\"text-align:center\" colspan=\"3\">Full Time Away Team Goals</td>\n",
    "    <td style=\"text-align:center\">Numerical: ratio</td>\n",
    "    <td style=\"text-align:center\">????</td>\n",
    "  </tr>\n",
    "  <tr>\n",
    "    <td style=\"text-align:center\">FTR</td>\n",
    "    <td style=\"text-align:center\" colspan=\"3\">Full Time Result (H=Home Win, D=Draw, A=Away Win)</td>\n",
    "    <td style=\"text-align:center\">Categorical: nominal</td>\n",
    "    <td style=\"text-align:center\"><b>TARGET</b></td>\n",
    "  </tr>\n",
    "  <tr>\n",
    "    <td style=\"text-align:center\">HTHG</td>\n",
    "    <td style=\"text-align:center\" colspan=\"3\">Half Time Home Team Goals</td>\n",
    "    <td style=\"text-align:center\">Numerical: ratio</td>\n",
    "    <td style=\"text-align:center\">??????</td>\n",
    "</tr>\n",
    "<tr>\n",
    "    <td style=\"text-align:center\">HTAG</td>\n",
    "    <td style=\"text-align:center\" colspan=\"3\">Half Time Away Team Goals</td>\n",
    "    <td style=\"text-align:center\">Numerical: ratio</td>\n",
    "    <td style=\"text-align:center\">??????</td>\n",
    "</tr>\n",
    "<tr>\n",
    "    <td style=\"text-align:center\">HTR</td>\n",
    "    <td style=\"text-align:center\" colspan=\"3\">Half Time Result (H=Home Win, D=Draw, A=Away Win)</td>\n",
    "    <td style=\"text-align:center\">Categorical: nominal</td>\n",
    "    <td style=\"text-align:center\">??????</td>\n",
    "</tr>\n",
    "<tr>\n",
    "    <td style=\"text-align:center\">Referee</td>\n",
    "    <td style=\"text-align:center\" colspan=\"3\">Match Referee</td>\n",
    "    <td style=\"text-align:center\">Categorical: nominal</td>\n",
    "    <td style=\"text-align:center\">??????</td>\n",
    "</tr>\n",
    "<tr>\n",
    "    <td style=\"text-align:center\">HS</td>\n",
    "    <td style=\"text-align:center\" colspan=\"3\">Home Team Shots</td>\n",
    "    <td style=\"text-align:center\">Numerical: ratio</td>\n",
    "    <td style=\"text-align:center\">??????</td>\n",
    "</tr>\n",
    "<tr>\n",
    "    <td style=\"text-align:center\">AS</td>\n",
    "    <td style=\"text-align:center\" colspan=\"3\">Away Team Shots</td>\n",
    "    <td style=\"text-align:center\">Numerical: ratio</td>\n",
    "    <td style=\"text-align:center\">??????</td>\n",
    "</tr>\n",
    "<tr>\n",
    "    <td style=\"text-align:center\">HST</td>\n",
    "    <td style=\"text-align:center\" colspan=\"3\">Home Team Shots on Target</td>\n",
    "    <td style=\"text-align:center\">Numerical: ratio</td>\n",
    "    <td style=\"text-align:center\">??????</td>\n",
    "</tr>\n",
    "<tr>\n",
    "    <td style=\"text-align:center\">AST</td>\n",
    "    <td style=\"text-align:center\" colspan=\"3\">Away Team Shots on Target</td>\n",
    "    <td style=\"text-align:center\">Numerical: ratio</td>\n",
    "    <td style=\"text-align:center\">??????</td>\n",
    "</tr>\n",
    "<tr>\n",
    "    <td style=\"text-align:center\">HC</td>\n",
    "    <td style=\"text-align:center\" colspan=\"3\">Home Team Corners</td>\n",
    "    <td style=\"text-align:center\">Numerical: ratio</td>\n",
    "    <td style=\"text-align:center\">??????</td>\n",
    "</tr>\n",
    "<tr>\n",
    "    <td style=\"text-align:center\">AC</td>\n",
    "    <td style=\"text-align:center\" colspan=\"3\">Away Team Corners</td>\n",
    "    <td style=\"text-align:center\">Numerical: ratio</td>\n",
    "    <td style=\"text-align:center\">??????</td>\n",
    "</tr>\n",
    "<tr>\n",
    "    <td style=\"text-align:center\">HF</td>\n",
    "    <td style=\"text-align:center\" colspan=\"3\">Home Team Fouls Committed</td>\n",
    "    <td style=\"text-align:center\">Numerical: ratio</td>\n",
    "    <td style=\"text-align:center\">??????</td>\n",
    "</tr>\n",
    "<tr>\n",
    "    <td style=\"text-align:center\">AF</td>\n",
    "    <td style=\"text-align:center\" colspan=\"3\">Away Team Fouls Committed</td>\n",
    "    <td style=\"text-align:center\">Numerical: ratio</td>\n",
    "    <td style=\"text-align:center\">??????</td>\n",
    "</tr>\n",
    "<tr>\n",
    "    <td style=\"text-align:center\">HY</td>\n",
    "    <td style=\"text-align:center\" colspan=\"3\">Home Team Yellow Cards</td>\n",
    "    <td style=\"text-align:center\">Numerical: ratio</td>\n",
    "    <td style=\"text-align:center\">??????</td>\n",
    "</tr>\n",
    "<tr>\n",
    "    <td style=\"text-align:center\">AY</td>\n",
    "    <td style=\"text-align:center\" colspan=\"3\">Away Team Yellow Cards</td>\n",
    "    <td style=\"text-align:center\">Numerical: ratio</td>\n",
    "    <td style=\"text-align:center\">??????</td>\n",
    "</tr>\n",
    "<tr>\n",
    "    <td style=\"text-align:center\">HR</td>\n",
    "    <td style=\"text-align:center\" colspan=\"3\">Home Team Red Cards</td>\n",
    "    <td style=\"text-align:center\">Numerical: ratio</td>\n",
    "    <td style=\"text-align:center\">??????</td>\n",
    "</tr>\n",
    "<tr>\n",
    "    <td style=\"text-align:center\">AR</td>\n",
    "    <td style=\"text-align:center\" colspan=\"3\">Away Team Red Cards</td>\n",
    "    <td style=\"text-align:center\">Numerical: ratio</td>\n",
    "    <td style=\"text-align:center\">??????</td>\n",
    "</tr>\n",
    "<tr>\n",
    "    <td style=\"text-align:center\">BWH</td>\n",
    "    <td style=\"text-align:center\" colspan=\"3\">Bet&Win home win odds</td>\n",
    "    <td style=\"text-align:center\">??????</td>\n",
    "    <td style=\"text-align:center\">??????</td>\n",
    "</tr>\n",
    "<tr>\n",
    "    <td style=\"text-align:center\">BWD</td>\n",
    "    <td style=\"text-align:center\" colspan=\"3\">Bet&Win draw odds</td>\n",
    "    <td style=\"text-align:center\">??????</td>\n",
    "    <td style=\"text-align:center\">??????</td>\n",
    "</tr>\n",
    "<tr>\n",
    "    <td style=\"text-align:center\">BWA</td>\n",
    "    <td style=\"text-align:center\" colspan=\"3\">Bet&Win away win odds</td>\n",
    "    <td style=\"text-align:center\">??????</td>\n",
    "    <td style=\"text-align:center\">??????</td>\n",
    "</tr>\n",
    "<tr>\n",
    "    <td style=\"text-align:center\">IWH</td>\n",
    "    <td style=\"text-align:center\" colspan=\"3\">Interwetten home win odds</td>\n",
    "    <td style=\"text-align:center\">??????</td>\n",
    "    <td style=\"text-align:center\">??????</td>\n",
    "</tr>\n",
    "<tr>\n",
    "    <td style=\"text-align:center\">IWD</td>\n",
    "    <td style=\"text-align:center\" colspan=\"3\">Interwetten draw odds</td>\n",
    "    <td style=\"text-align:center\">??????</td>\n",
    "    <td style=\"text-align:center\">??????</td>\n",
    "</tr>\n",
    "<tr>\n",
    "    <td style=\"text-align:center\">IWA</td>\n",
    "    <td style=\"text-align:center\" colspan=\"3\">Interwetten away win odds</td>\n",
    "    <td style=\"text-align:center\">??????</td>\n",
    "    <td style=\"text-align:center\">??????</td>\n",
    "</tr>\n",
    "<tr>\n",
    "    <td style=\"text-align:center\">VCH</td>\n",
    "    <td style=\"text-align:center\" colspan=\"3\">VC Bet home win odds</td>\n",
    "    <td style=\"text-align:center\">??????</td>\n",
    "    <td style=\"text-align:center\">??????</td>\n",
    "</tr>\n",
    "<tr>\n",
    "    <td style=\"text-align:center\">VCD</td>\n",
    "    <td style=\"text-align:center\" colspan=\"3\">VC Bet draw odds</td>\n",
    "    <td style=\"text-align:center\">??????</td>\n",
    "    <td style=\"text-align:center\">??????</td>\n",
    "</tr>\n",
    "<tr>\n",
    "    <td style=\"text-align:center\">VCA</td>\n",
    "    <td style=\"text-align:center\" colspan=\"3\">VC Bet away win odds</td>\n",
    "    <td style=\"text-align:center\">??????</td>\n",
    "    <td style=\"text-align:center\">??????</td>\n",
    "</tr>\n",
    "<tr>\n",
    "    <td style=\"text-align:center\">WHH</td>\n",
    "    <td style=\"text-align:center\" colspan=\"3\">William Hill home win odds</td>\n",
    "    <td style=\"text-align:center\">??????</td>\n",
    "    <td style=\"text-align:center\">??????</td>\n",
    "</tr>\n",
    "<tr>\n",
    "    <td style=\"text-align:center\">WHD</td>\n",
    "    <td style=\"text-align:center\" colspan=\"3\">William Hill draw odds</td>\n",
    "    <td style=\"text-align:center\">??????</td>\n",
    "    <td style=\"text-align:center\">??????</td>\n",
    "</tr>\n",
    "<tr>\n",
    "    <td style=\"text-align:center\">WHA</td>\n",
    "    <td style=\"text-align:center\" colspan=\"3\">William Hill away win odds</td>\n",
    "    <td style=\"text-align:center\">??????</td>\n",
    "    <td style=\"text-align:center\">??????</td>\n",
    "</tr>\n",
    "<tr>\n",
    "    <td style=\"text-align:center\">Bb1X2</td>\n",
    "    <td style=\"text-align:center\" colspan=\"3\">Number of BetBrain bookmakers used to calculate match odds averages and maximums</td>\n",
    "    <td style=\"text-align:center\">??????</td>\n",
    "    <td style=\"text-align:center\">??????</td>\n",
    "</tr>\n",
    "<tr>\n",
    "    <td style=\"text-align:center\">BbMxH</td>\n",
    "    <td style=\"text-align:center\" colspan=\"3\">Betbrain maximum home win odds</td>\n",
    "    <td style=\"text-align:center\">??????</td>\n",
    "    <td style=\"text-align:center\">??????</td>\n",
    "</tr>\n",
    "<tr>\n",
    "    <td style=\"text-align:center\">BbAvH</td>\n",
    "    <td style=\"text-align:center\" colspan=\"3\">Betbrain average home win odds</td>\n",
    "    <td style=\"text-align:center\">??????</td>\n",
    "    <td style=\"text-align:center\">??????</td>\n",
    "</tr>\n",
    "<tr>\n",
    "    <td style=\"text-align:center\">BbMxD</td>\n",
    "    <td style=\"text-align:center\" colspan=\"3\">Betbrain maximum draw odds</td>\n",
    "    <td style=\"text-align:center\">??????</td>\n",
    "    <td style=\"text-align:center\">??????</td>\n",
    "</tr>\n",
    "<tr>\n",
    "    <td style=\"text-align:center\">BbAvD</td>\n",
    "    <td style=\"text-align:center\" colspan=\"3\">Betbrain average draw win odds</td>\n",
    "    <td style=\"text-align:center\">??????</td>\n",
    "    <td style=\"text-align:center\">??????</td>\n",
    "</tr>\n",
    "<tr>\n",
    "    <td style=\"text-align:center\">BbMxA</td>\n",
    "    <td style=\"text-align:center\" colspan=\"3\">Betbrain maximum away win odds</td>\n",
    "    <td style=\"text-align:center\">??????</td>\n",
    "    <td style=\"text-align:center\">??????</td>\n",
    "</tr>\n",
    "<tr>\n",
    "    <td style=\"text-align:center\">BbAvA</td>\n",
    "    <td style=\"text-align:center\" colspan=\"3\">Betbrain average away win odds</td>\n",
    "    <td style=\"text-align:center\">??????</td>\n",
    "    <td style=\"text-align:center\">??????</td>\n",
    "</tr>\n",
    "<tr>\n",
    "    <td style=\"text-align:center\">BbOU</td>\n",
    "    <td style=\"text-align:center\" colspan=\"3\">Number of BetBrain bookmakers used to calculate over/under 2.5 goals (total goals) averages and maximums</td>\n",
    "    <td style=\"text-align:center\">??????</td>\n",
    "    <td style=\"text-align:center\">??????</td>\n",
    "</tr>\n",
    "<tr>\n",
    "    <td style=\"text-align:center\">BbMx>2.5</td>\n",
    "    <td style=\"text-align:center\" colspan=\"3\">Betbrain maximum over 2.5 goals</td>\n",
    "    <td style=\"text-align:center\">??????</td>\n",
    "    <td style=\"text-align:center\">??????</td>\n",
    "</tr>\n",
    "<tr>\n",
    "    <td style=\"text-align:center\">BbAv>2.5</td>\n",
    "    <td style=\"text-align:center\" colspan=\"3\">Betbrain average over 2.5 goals</td>\n",
    "    <td style=\"text-align:center\">??????</td>\n",
    "    <td style=\"text-align:center\">??????</td>\n",
    "</tr>\n",
    "<tr>\n",
    "    <td style=\"text-align:center\">BbMx<2.5</td>\n",
    "    <td style=\"text-align:center\" colspan=\"3\">Betbrain maximum under 2.5 goals</td>\n",
    "    <td style=\"text-align:center\">??????</td>\n",
    "    <td style=\"text-align:center\">??????</td>\n",
    "</tr>\n",
    "<tr>\n",
    "    <td style=\"text-align:center\">BbAv<2.5</td>\n",
    "    <td style=\"text-align:center\" colspan=\"3\">Betbrain average under 2.5 goals</td>\n",
    "    <td style=\"text-align:center\">??????</td>\n",
    "    <td style=\"text-align:center\">??????</td>\n",
    "</tr>\n",
    "<tr>\n",
    "    <td style=\"text-align:center\">BbAH</td>\n",
    "    <td style=\"text-align:center\" colspan=\"3\">Number of BetBrain bookmakers used to Asian handicap averages and maximums</td>\n",
    "    <td style=\"text-align:center\">??????</td>\n",
    "    <td style=\"text-align:center\">??????</td>\n",
    "</tr>\n",
    "<tr>\n",
    "    <td style=\"text-align:center\">BbAHh</td>\n",
    "    <td style=\"text-align:center\" colspan=\"3\">Betbrain size of handicap (home team)</td>\n",
    "    <td style=\"text-align:center\">??????</td>\n",
    "    <td style=\"text-align:center\">??????</td>\n",
    "</tr>\n",
    "<tr>\n",
    "    <td style=\"text-align:center\">BbMxAHH</td>\n",
    "    <td style=\"text-align:center\" colspan=\"3\">Betbrain maximum Asian handicap home team odds</td>\n",
    "    <td style=\"text-align:center\">??????</td>\n",
    "    <td style=\"text-align:center\">??????</td>\n",
    "</tr>\n",
    "<tr>\n",
    "    <td style=\"text-align:center\">BbAvAHH</td>\n",
    "    <td style=\"text-align:center\" colspan=\"3\">Betbrain average Asian handicap home team odds</td>\n",
    "    <td style=\"text-align:center\">??????</td>\n",
    "    <td style=\"text-align:center\">??????</td>\n",
    "</tr>\n",
    "<tr>\n",
    "    <td style=\"text-align:center\">BbMxAHA</td>\n",
    "    <td style=\"text-align:center\" colspan=\"3\">Betbrain maximum Asian handicap away team odds</td>\n",
    "    <td style=\"text-align:center\">??????</td>\n",
    "    <td style=\"text-align:center\">??????</td>\n",
    "</tr>\n",
    "<tr>\n",
    "    <td style=\"text-align:center\">BbAvAHA</td>\n",
    "    <td style=\"text-align:center\" colspan=\"3\">Betbrain average Asian handicap away team odds</td>\n",
    "    <td style=\"text-align:center\">??????</td>\n",
    "    <td style=\"text-align:center\">??????</td>\n",
    "</tr>\n",
    "<tr>\n",
    "    <td style=\"text-align:center\">LBH</td>\n",
    "    <td style=\"text-align:center\" colspan=\"3\">Ladbrokes home win odds</td>\n",
    "    <td style=\"text-align:center\">??????</td>\n",
    "    <td style=\"text-align:center\">??????</td>\n",
    "</tr>\n",
    "<tr>\n",
    "    <td style=\"text-align:center\">LBD</td>\n",
    "    <td style=\"text-align:center\" colspan=\"3\">Ladbrokes draw odds</td>\n",
    "    <td style=\"text-align:center\">??????</td>\n",
    "    <td style=\"text-align:center\">??????</td>\n",
    "</tr>\n",
    "<tr>\n",
    "    <td style=\"text-align:center\">LBA</td>\n",
    "    <td style=\"text-align:center\" colspan=\"3\">Ladbrokes away win odds</td>\n",
    "    <td style=\"text-align:center\">??????</td>\n",
    "    <td style=\"text-align:center\">??????</td>\n",
    "</tr>\n",
    "</table>"
   ]
  },
  {
   "cell_type": "code",
   "execution_count": 18,
   "metadata": {},
   "outputs": [
    {
     "data": {
      "text/html": [
       "<div>\n",
       "<style scoped>\n",
       "    .dataframe tbody tr th:only-of-type {\n",
       "        vertical-align: middle;\n",
       "    }\n",
       "\n",
       "    .dataframe tbody tr th {\n",
       "        vertical-align: top;\n",
       "    }\n",
       "\n",
       "    .dataframe thead th {\n",
       "        text-align: right;\n",
       "    }\n",
       "</style>\n",
       "<table border=\"1\" class=\"dataframe\">\n",
       "  <thead>\n",
       "    <tr style=\"text-align: right;\">\n",
       "      <th></th>\n",
       "      <th>FTHG</th>\n",
       "      <th>FTAG</th>\n",
       "      <th>HTHG</th>\n",
       "      <th>HTAG</th>\n",
       "      <th>HS</th>\n",
       "      <th>AS</th>\n",
       "      <th>HST</th>\n",
       "      <th>AST</th>\n",
       "      <th>HF</th>\n",
       "      <th>AF</th>\n",
       "      <th>...</th>\n",
       "      <th>BbAv&lt;2.5</th>\n",
       "      <th>BbAH</th>\n",
       "      <th>BbAHh</th>\n",
       "      <th>BbMxAHH</th>\n",
       "      <th>BbAvAHH</th>\n",
       "      <th>BbMxAHA</th>\n",
       "      <th>BbAvAHA</th>\n",
       "      <th>LBH</th>\n",
       "      <th>LBD</th>\n",
       "      <th>LBA</th>\n",
       "    </tr>\n",
       "  </thead>\n",
       "  <tbody>\n",
       "    <tr>\n",
       "      <th>count</th>\n",
       "      <td>5320.000000</td>\n",
       "      <td>5320.000000</td>\n",
       "      <td>5320.000000</td>\n",
       "      <td>5320.000000</td>\n",
       "      <td>5320.000000</td>\n",
       "      <td>5320.000000</td>\n",
       "      <td>5320.000000</td>\n",
       "      <td>5320.000000</td>\n",
       "      <td>5320.000000</td>\n",
       "      <td>5320.000000</td>\n",
       "      <td>...</td>\n",
       "      <td>5320.000000</td>\n",
       "      <td>5310.000000</td>\n",
       "      <td>5310.000000</td>\n",
       "      <td>5310.000000</td>\n",
       "      <td>5310.000000</td>\n",
       "      <td>5310.000000</td>\n",
       "      <td>5310.000000</td>\n",
       "      <td>4939.000000</td>\n",
       "      <td>4939.000000</td>\n",
       "      <td>4939.000000</td>\n",
       "    </tr>\n",
       "    <tr>\n",
       "      <th>mean</th>\n",
       "      <td>1.539098</td>\n",
       "      <td>1.143421</td>\n",
       "      <td>0.683271</td>\n",
       "      <td>0.498684</td>\n",
       "      <td>13.826128</td>\n",
       "      <td>10.863346</td>\n",
       "      <td>6.267481</td>\n",
       "      <td>4.880827</td>\n",
       "      <td>11.061090</td>\n",
       "      <td>11.545865</td>\n",
       "      <td>...</td>\n",
       "      <td>1.927088</td>\n",
       "      <td>23.177213</td>\n",
       "      <td>-0.303672</td>\n",
       "      <td>2.003945</td>\n",
       "      <td>1.931913</td>\n",
       "      <td>2.170601</td>\n",
       "      <td>2.068917</td>\n",
       "      <td>2.625558</td>\n",
       "      <td>3.781597</td>\n",
       "      <td>4.547896</td>\n",
       "    </tr>\n",
       "    <tr>\n",
       "      <th>std</th>\n",
       "      <td>1.310569</td>\n",
       "      <td>1.138267</td>\n",
       "      <td>0.832607</td>\n",
       "      <td>0.717465</td>\n",
       "      <td>5.383998</td>\n",
       "      <td>4.609097</td>\n",
       "      <td>3.444300</td>\n",
       "      <td>2.879626</td>\n",
       "      <td>3.637792</td>\n",
       "      <td>3.774794</td>\n",
       "      <td>...</td>\n",
       "      <td>0.308602</td>\n",
       "      <td>4.087438</td>\n",
       "      <td>0.796084</td>\n",
       "      <td>0.539708</td>\n",
       "      <td>0.451921</td>\n",
       "      <td>1.092761</td>\n",
       "      <td>0.830972</td>\n",
       "      <td>1.638203</td>\n",
       "      <td>0.919669</td>\n",
       "      <td>3.497249</td>\n",
       "    </tr>\n",
       "    <tr>\n",
       "      <th>min</th>\n",
       "      <td>0.000000</td>\n",
       "      <td>0.000000</td>\n",
       "      <td>0.000000</td>\n",
       "      <td>0.000000</td>\n",
       "      <td>0.000000</td>\n",
       "      <td>0.000000</td>\n",
       "      <td>0.000000</td>\n",
       "      <td>0.000000</td>\n",
       "      <td>0.000000</td>\n",
       "      <td>1.000000</td>\n",
       "      <td>...</td>\n",
       "      <td>1.400000</td>\n",
       "      <td>3.000000</td>\n",
       "      <td>-3.000000</td>\n",
       "      <td>1.010000</td>\n",
       "      <td>1.010000</td>\n",
       "      <td>1.060000</td>\n",
       "      <td>1.040000</td>\n",
       "      <td>1.080000</td>\n",
       "      <td>2.750000</td>\n",
       "      <td>1.170000</td>\n",
       "    </tr>\n",
       "    <tr>\n",
       "      <th>25%</th>\n",
       "      <td>1.000000</td>\n",
       "      <td>0.000000</td>\n",
       "      <td>0.000000</td>\n",
       "      <td>0.000000</td>\n",
       "      <td>10.000000</td>\n",
       "      <td>7.000000</td>\n",
       "      <td>4.000000</td>\n",
       "      <td>3.000000</td>\n",
       "      <td>9.000000</td>\n",
       "      <td>9.000000</td>\n",
       "      <td>...</td>\n",
       "      <td>1.710000</td>\n",
       "      <td>20.000000</td>\n",
       "      <td>-0.750000</td>\n",
       "      <td>1.850000</td>\n",
       "      <td>1.800000</td>\n",
       "      <td>1.890000</td>\n",
       "      <td>1.840000</td>\n",
       "      <td>1.660000</td>\n",
       "      <td>3.250000</td>\n",
       "      <td>2.400000</td>\n",
       "    </tr>\n",
       "    <tr>\n",
       "      <th>50%</th>\n",
       "      <td>1.000000</td>\n",
       "      <td>1.000000</td>\n",
       "      <td>0.000000</td>\n",
       "      <td>0.000000</td>\n",
       "      <td>13.000000</td>\n",
       "      <td>10.000000</td>\n",
       "      <td>6.000000</td>\n",
       "      <td>4.000000</td>\n",
       "      <td>11.000000</td>\n",
       "      <td>11.000000</td>\n",
       "      <td>...</td>\n",
       "      <td>1.840000</td>\n",
       "      <td>23.000000</td>\n",
       "      <td>-0.250000</td>\n",
       "      <td>1.960000</td>\n",
       "      <td>1.910000</td>\n",
       "      <td>2.010000</td>\n",
       "      <td>1.950000</td>\n",
       "      <td>2.100000</td>\n",
       "      <td>3.400000</td>\n",
       "      <td>3.300000</td>\n",
       "    </tr>\n",
       "    <tr>\n",
       "      <th>75%</th>\n",
       "      <td>2.000000</td>\n",
       "      <td>2.000000</td>\n",
       "      <td>1.000000</td>\n",
       "      <td>1.000000</td>\n",
       "      <td>17.000000</td>\n",
       "      <td>14.000000</td>\n",
       "      <td>8.000000</td>\n",
       "      <td>7.000000</td>\n",
       "      <td>13.000000</td>\n",
       "      <td>14.000000</td>\n",
       "      <td>...</td>\n",
       "      <td>2.060000</td>\n",
       "      <td>26.000000</td>\n",
       "      <td>0.000000</td>\n",
       "      <td>2.090000</td>\n",
       "      <td>2.020000</td>\n",
       "      <td>2.130000</td>\n",
       "      <td>2.060000</td>\n",
       "      <td>2.800000</td>\n",
       "      <td>3.800000</td>\n",
       "      <td>5.000000</td>\n",
       "    </tr>\n",
       "    <tr>\n",
       "      <th>max</th>\n",
       "      <td>9.000000</td>\n",
       "      <td>7.000000</td>\n",
       "      <td>5.000000</td>\n",
       "      <td>5.000000</td>\n",
       "      <td>43.000000</td>\n",
       "      <td>30.000000</td>\n",
       "      <td>24.000000</td>\n",
       "      <td>20.000000</td>\n",
       "      <td>33.000000</td>\n",
       "      <td>26.000000</td>\n",
       "      <td>...</td>\n",
       "      <td>4.170000</td>\n",
       "      <td>37.000000</td>\n",
       "      <td>2.500000</td>\n",
       "      <td>13.000000</td>\n",
       "      <td>9.300000</td>\n",
       "      <td>21.580000</td>\n",
       "      <td>15.140000</td>\n",
       "      <td>17.000000</td>\n",
       "      <td>12.000000</td>\n",
       "      <td>29.000000</td>\n",
       "    </tr>\n",
       "  </tbody>\n",
       "</table>\n",
       "<p>8 rows × 52 columns</p>\n",
       "</div>"
      ],
      "text/plain": [
       "              FTHG         FTAG         HTHG         HTAG           HS  \\\n",
       "count  5320.000000  5320.000000  5320.000000  5320.000000  5320.000000   \n",
       "mean      1.539098     1.143421     0.683271     0.498684    13.826128   \n",
       "std       1.310569     1.138267     0.832607     0.717465     5.383998   \n",
       "min       0.000000     0.000000     0.000000     0.000000     0.000000   \n",
       "25%       1.000000     0.000000     0.000000     0.000000    10.000000   \n",
       "50%       1.000000     1.000000     0.000000     0.000000    13.000000   \n",
       "75%       2.000000     2.000000     1.000000     1.000000    17.000000   \n",
       "max       9.000000     7.000000     5.000000     5.000000    43.000000   \n",
       "\n",
       "                AS          HST          AST           HF           AF  ...  \\\n",
       "count  5320.000000  5320.000000  5320.000000  5320.000000  5320.000000  ...   \n",
       "mean     10.863346     6.267481     4.880827    11.061090    11.545865  ...   \n",
       "std       4.609097     3.444300     2.879626     3.637792     3.774794  ...   \n",
       "min       0.000000     0.000000     0.000000     0.000000     1.000000  ...   \n",
       "25%       7.000000     4.000000     3.000000     9.000000     9.000000  ...   \n",
       "50%      10.000000     6.000000     4.000000    11.000000    11.000000  ...   \n",
       "75%      14.000000     8.000000     7.000000    13.000000    14.000000  ...   \n",
       "max      30.000000    24.000000    20.000000    33.000000    26.000000  ...   \n",
       "\n",
       "          BbAv<2.5         BbAH        BbAHh      BbMxAHH      BbAvAHH  \\\n",
       "count  5320.000000  5310.000000  5310.000000  5310.000000  5310.000000   \n",
       "mean      1.927088    23.177213    -0.303672     2.003945     1.931913   \n",
       "std       0.308602     4.087438     0.796084     0.539708     0.451921   \n",
       "min       1.400000     3.000000    -3.000000     1.010000     1.010000   \n",
       "25%       1.710000    20.000000    -0.750000     1.850000     1.800000   \n",
       "50%       1.840000    23.000000    -0.250000     1.960000     1.910000   \n",
       "75%       2.060000    26.000000     0.000000     2.090000     2.020000   \n",
       "max       4.170000    37.000000     2.500000    13.000000     9.300000   \n",
       "\n",
       "           BbMxAHA      BbAvAHA          LBH          LBD          LBA  \n",
       "count  5310.000000  5310.000000  4939.000000  4939.000000  4939.000000  \n",
       "mean      2.170601     2.068917     2.625558     3.781597     4.547896  \n",
       "std       1.092761     0.830972     1.638203     0.919669     3.497249  \n",
       "min       1.060000     1.040000     1.080000     2.750000     1.170000  \n",
       "25%       1.890000     1.840000     1.660000     3.250000     2.400000  \n",
       "50%       2.010000     1.950000     2.100000     3.400000     3.300000  \n",
       "75%       2.130000     2.060000     2.800000     3.800000     5.000000  \n",
       "max      21.580000    15.140000    17.000000    12.000000    29.000000  \n",
       "\n",
       "[8 rows x 52 columns]"
      ]
     },
     "execution_count": 18,
     "metadata": {},
     "output_type": "execute_result"
    }
   ],
   "source": [
    "all_seasons.describe()"
   ]
  },
  {
   "cell_type": "code",
   "execution_count": 17,
   "metadata": {},
   "outputs": [],
   "source": [
    "nominal_vars = ['Div', 'Date', 'HomeTeam', 'AwayTeam', 'FTR', 'HTR']"
   ]
  },
  {
   "cell_type": "code",
   "execution_count": 19,
   "metadata": {},
   "outputs": [
    {
     "data": {
      "text/html": [
       "<div>\n",
       "<style scoped>\n",
       "    .dataframe tbody tr th:only-of-type {\n",
       "        vertical-align: middle;\n",
       "    }\n",
       "\n",
       "    .dataframe tbody tr th {\n",
       "        vertical-align: top;\n",
       "    }\n",
       "\n",
       "    .dataframe thead th {\n",
       "        text-align: right;\n",
       "    }\n",
       "</style>\n",
       "<table border=\"1\" class=\"dataframe\">\n",
       "  <thead>\n",
       "    <tr style=\"text-align: right;\">\n",
       "      <th></th>\n",
       "      <th>Div</th>\n",
       "      <th>Date</th>\n",
       "      <th>HomeTeam</th>\n",
       "      <th>AwayTeam</th>\n",
       "      <th>FTR</th>\n",
       "      <th>HTR</th>\n",
       "    </tr>\n",
       "  </thead>\n",
       "  <tbody>\n",
       "    <tr>\n",
       "      <th>count</th>\n",
       "      <td>5320</td>\n",
       "      <td>5320</td>\n",
       "      <td>5320</td>\n",
       "      <td>5320</td>\n",
       "      <td>5320</td>\n",
       "      <td>5320</td>\n",
       "    </tr>\n",
       "    <tr>\n",
       "      <th>unique</th>\n",
       "      <td>1</td>\n",
       "      <td>1420</td>\n",
       "      <td>39</td>\n",
       "      <td>39</td>\n",
       "      <td>3</td>\n",
       "      <td>3</td>\n",
       "    </tr>\n",
       "    <tr>\n",
       "      <th>top</th>\n",
       "      <td>E0</td>\n",
       "      <td>13/05/12</td>\n",
       "      <td>Chelsea</td>\n",
       "      <td>Tottenham</td>\n",
       "      <td>H</td>\n",
       "      <td>D</td>\n",
       "    </tr>\n",
       "    <tr>\n",
       "      <th>freq</th>\n",
       "      <td>5320</td>\n",
       "      <td>10</td>\n",
       "      <td>266</td>\n",
       "      <td>266</td>\n",
       "      <td>2481</td>\n",
       "      <td>2212</td>\n",
       "    </tr>\n",
       "  </tbody>\n",
       "</table>\n",
       "</div>"
      ],
      "text/plain": [
       "         Div      Date HomeTeam   AwayTeam   FTR   HTR\n",
       "count   5320      5320     5320       5320  5320  5320\n",
       "unique     1      1420       39         39     3     3\n",
       "top       E0  13/05/12  Chelsea  Tottenham     H     D\n",
       "freq    5320        10      266        266  2481  2212"
      ]
     },
     "execution_count": 19,
     "metadata": {},
     "output_type": "execute_result"
    }
   ],
   "source": [
    "all_seasons[nominal_vars].describe(include='all')"
   ]
  },
  {
   "cell_type": "code",
   "execution_count": 20,
   "metadata": {},
   "outputs": [
    {
     "data": {
      "text/plain": [
       "Div           0\n",
       "Date          0\n",
       "HomeTeam      0\n",
       "AwayTeam      0\n",
       "FTHG          0\n",
       "FTAG          0\n",
       "FTR           0\n",
       "HTHG          0\n",
       "HTAG          0\n",
       "HTR           0\n",
       "Referee       0\n",
       "HS            0\n",
       "AS            0\n",
       "HST           0\n",
       "AST           0\n",
       "HF            0\n",
       "AF            0\n",
       "HC            0\n",
       "AC            0\n",
       "HY            0\n",
       "AY            0\n",
       "HR            0\n",
       "AR            0\n",
       "B365H         0\n",
       "B365D         0\n",
       "B365A         0\n",
       "BWH           1\n",
       "BWD           1\n",
       "BWA           1\n",
       "IWH           2\n",
       "IWD           2\n",
       "IWA           2\n",
       "WHH         107\n",
       "WHD         107\n",
       "WHA         107\n",
       "VCH           0\n",
       "VCD           0\n",
       "VCA           0\n",
       "Bb1X2         0\n",
       "BbMxH         0\n",
       "BbAvH         0\n",
       "BbMxD         0\n",
       "BbAvD         0\n",
       "BbMxA         0\n",
       "BbAvA         0\n",
       "BbOU          0\n",
       "BbMx>2.5      0\n",
       "BbAv>2.5      0\n",
       "BbMx<2.5      0\n",
       "BbAv<2.5      0\n",
       "BbAH         10\n",
       "BbAHh        10\n",
       "BbMxAHH      10\n",
       "BbAvAHH      10\n",
       "BbMxAHA      10\n",
       "BbAvAHA      10\n",
       "LBH         381\n",
       "LBD         381\n",
       "LBA         381\n",
       "dtype: int64"
      ]
     },
     "execution_count": 20,
     "metadata": {},
     "output_type": "execute_result"
    }
   ],
   "source": [
    "all_seasons.isna().sum()"
   ]
  },
  {
   "cell_type": "code",
   "execution_count": 21,
   "metadata": {},
   "outputs": [],
   "source": [
    "class_dist = all_seasons[\"FTR\"].value_counts().rename_axis('Class').to_frame('Count')"
   ]
  },
  {
   "cell_type": "code",
   "execution_count": 25,
   "metadata": {},
   "outputs": [
    {
     "data": {
      "application/vnd.plotly.v1+json": {
       "config": {
        "plotlyServerURL": "https://plot.ly"
       },
       "data": [
        {
         "marker": {
          "color": [
           "#354E3E",
           "#489565",
           "#fa8f4d"
          ]
         },
         "type": "bar",
         "x": [
          "H",
          "A",
          "D"
         ],
         "y": [
          2481,
          1527,
          1312
         ]
        }
       ],
       "layout": {
        "height": 400,
        "template": {
         "data": {
          "bar": [
           {
            "error_x": {
             "color": "#2a3f5f"
            },
            "error_y": {
             "color": "#2a3f5f"
            },
            "marker": {
             "line": {
              "color": "#E5ECF6",
              "width": 0.5
             }
            },
            "type": "bar"
           }
          ],
          "barpolar": [
           {
            "marker": {
             "line": {
              "color": "#E5ECF6",
              "width": 0.5
             }
            },
            "type": "barpolar"
           }
          ],
          "carpet": [
           {
            "aaxis": {
             "endlinecolor": "#2a3f5f",
             "gridcolor": "white",
             "linecolor": "white",
             "minorgridcolor": "white",
             "startlinecolor": "#2a3f5f"
            },
            "baxis": {
             "endlinecolor": "#2a3f5f",
             "gridcolor": "white",
             "linecolor": "white",
             "minorgridcolor": "white",
             "startlinecolor": "#2a3f5f"
            },
            "type": "carpet"
           }
          ],
          "choropleth": [
           {
            "colorbar": {
             "outlinewidth": 0,
             "ticks": ""
            },
            "type": "choropleth"
           }
          ],
          "contour": [
           {
            "colorbar": {
             "outlinewidth": 0,
             "ticks": ""
            },
            "colorscale": [
             [
              0,
              "#0d0887"
             ],
             [
              0.1111111111111111,
              "#46039f"
             ],
             [
              0.2222222222222222,
              "#7201a8"
             ],
             [
              0.3333333333333333,
              "#9c179e"
             ],
             [
              0.4444444444444444,
              "#bd3786"
             ],
             [
              0.5555555555555556,
              "#d8576b"
             ],
             [
              0.6666666666666666,
              "#ed7953"
             ],
             [
              0.7777777777777778,
              "#fb9f3a"
             ],
             [
              0.8888888888888888,
              "#fdca26"
             ],
             [
              1,
              "#f0f921"
             ]
            ],
            "type": "contour"
           }
          ],
          "contourcarpet": [
           {
            "colorbar": {
             "outlinewidth": 0,
             "ticks": ""
            },
            "type": "contourcarpet"
           }
          ],
          "heatmap": [
           {
            "colorbar": {
             "outlinewidth": 0,
             "ticks": ""
            },
            "colorscale": [
             [
              0,
              "#0d0887"
             ],
             [
              0.1111111111111111,
              "#46039f"
             ],
             [
              0.2222222222222222,
              "#7201a8"
             ],
             [
              0.3333333333333333,
              "#9c179e"
             ],
             [
              0.4444444444444444,
              "#bd3786"
             ],
             [
              0.5555555555555556,
              "#d8576b"
             ],
             [
              0.6666666666666666,
              "#ed7953"
             ],
             [
              0.7777777777777778,
              "#fb9f3a"
             ],
             [
              0.8888888888888888,
              "#fdca26"
             ],
             [
              1,
              "#f0f921"
             ]
            ],
            "type": "heatmap"
           }
          ],
          "heatmapgl": [
           {
            "colorbar": {
             "outlinewidth": 0,
             "ticks": ""
            },
            "colorscale": [
             [
              0,
              "#0d0887"
             ],
             [
              0.1111111111111111,
              "#46039f"
             ],
             [
              0.2222222222222222,
              "#7201a8"
             ],
             [
              0.3333333333333333,
              "#9c179e"
             ],
             [
              0.4444444444444444,
              "#bd3786"
             ],
             [
              0.5555555555555556,
              "#d8576b"
             ],
             [
              0.6666666666666666,
              "#ed7953"
             ],
             [
              0.7777777777777778,
              "#fb9f3a"
             ],
             [
              0.8888888888888888,
              "#fdca26"
             ],
             [
              1,
              "#f0f921"
             ]
            ],
            "type": "heatmapgl"
           }
          ],
          "histogram": [
           {
            "marker": {
             "colorbar": {
              "outlinewidth": 0,
              "ticks": ""
             }
            },
            "type": "histogram"
           }
          ],
          "histogram2d": [
           {
            "colorbar": {
             "outlinewidth": 0,
             "ticks": ""
            },
            "colorscale": [
             [
              0,
              "#0d0887"
             ],
             [
              0.1111111111111111,
              "#46039f"
             ],
             [
              0.2222222222222222,
              "#7201a8"
             ],
             [
              0.3333333333333333,
              "#9c179e"
             ],
             [
              0.4444444444444444,
              "#bd3786"
             ],
             [
              0.5555555555555556,
              "#d8576b"
             ],
             [
              0.6666666666666666,
              "#ed7953"
             ],
             [
              0.7777777777777778,
              "#fb9f3a"
             ],
             [
              0.8888888888888888,
              "#fdca26"
             ],
             [
              1,
              "#f0f921"
             ]
            ],
            "type": "histogram2d"
           }
          ],
          "histogram2dcontour": [
           {
            "colorbar": {
             "outlinewidth": 0,
             "ticks": ""
            },
            "colorscale": [
             [
              0,
              "#0d0887"
             ],
             [
              0.1111111111111111,
              "#46039f"
             ],
             [
              0.2222222222222222,
              "#7201a8"
             ],
             [
              0.3333333333333333,
              "#9c179e"
             ],
             [
              0.4444444444444444,
              "#bd3786"
             ],
             [
              0.5555555555555556,
              "#d8576b"
             ],
             [
              0.6666666666666666,
              "#ed7953"
             ],
             [
              0.7777777777777778,
              "#fb9f3a"
             ],
             [
              0.8888888888888888,
              "#fdca26"
             ],
             [
              1,
              "#f0f921"
             ]
            ],
            "type": "histogram2dcontour"
           }
          ],
          "mesh3d": [
           {
            "colorbar": {
             "outlinewidth": 0,
             "ticks": ""
            },
            "type": "mesh3d"
           }
          ],
          "parcoords": [
           {
            "line": {
             "colorbar": {
              "outlinewidth": 0,
              "ticks": ""
             }
            },
            "type": "parcoords"
           }
          ],
          "pie": [
           {
            "automargin": true,
            "type": "pie"
           }
          ],
          "scatter": [
           {
            "marker": {
             "colorbar": {
              "outlinewidth": 0,
              "ticks": ""
             }
            },
            "type": "scatter"
           }
          ],
          "scatter3d": [
           {
            "line": {
             "colorbar": {
              "outlinewidth": 0,
              "ticks": ""
             }
            },
            "marker": {
             "colorbar": {
              "outlinewidth": 0,
              "ticks": ""
             }
            },
            "type": "scatter3d"
           }
          ],
          "scattercarpet": [
           {
            "marker": {
             "colorbar": {
              "outlinewidth": 0,
              "ticks": ""
             }
            },
            "type": "scattercarpet"
           }
          ],
          "scattergeo": [
           {
            "marker": {
             "colorbar": {
              "outlinewidth": 0,
              "ticks": ""
             }
            },
            "type": "scattergeo"
           }
          ],
          "scattergl": [
           {
            "marker": {
             "colorbar": {
              "outlinewidth": 0,
              "ticks": ""
             }
            },
            "type": "scattergl"
           }
          ],
          "scattermapbox": [
           {
            "marker": {
             "colorbar": {
              "outlinewidth": 0,
              "ticks": ""
             }
            },
            "type": "scattermapbox"
           }
          ],
          "scatterpolar": [
           {
            "marker": {
             "colorbar": {
              "outlinewidth": 0,
              "ticks": ""
             }
            },
            "type": "scatterpolar"
           }
          ],
          "scatterpolargl": [
           {
            "marker": {
             "colorbar": {
              "outlinewidth": 0,
              "ticks": ""
             }
            },
            "type": "scatterpolargl"
           }
          ],
          "scatterternary": [
           {
            "marker": {
             "colorbar": {
              "outlinewidth": 0,
              "ticks": ""
             }
            },
            "type": "scatterternary"
           }
          ],
          "surface": [
           {
            "colorbar": {
             "outlinewidth": 0,
             "ticks": ""
            },
            "colorscale": [
             [
              0,
              "#0d0887"
             ],
             [
              0.1111111111111111,
              "#46039f"
             ],
             [
              0.2222222222222222,
              "#7201a8"
             ],
             [
              0.3333333333333333,
              "#9c179e"
             ],
             [
              0.4444444444444444,
              "#bd3786"
             ],
             [
              0.5555555555555556,
              "#d8576b"
             ],
             [
              0.6666666666666666,
              "#ed7953"
             ],
             [
              0.7777777777777778,
              "#fb9f3a"
             ],
             [
              0.8888888888888888,
              "#fdca26"
             ],
             [
              1,
              "#f0f921"
             ]
            ],
            "type": "surface"
           }
          ],
          "table": [
           {
            "cells": {
             "fill": {
              "color": "#EBF0F8"
             },
             "line": {
              "color": "white"
             }
            },
            "header": {
             "fill": {
              "color": "#C8D4E3"
             },
             "line": {
              "color": "white"
             }
            },
            "type": "table"
           }
          ]
         },
         "layout": {
          "annotationdefaults": {
           "arrowcolor": "#2a3f5f",
           "arrowhead": 0,
           "arrowwidth": 1
          },
          "coloraxis": {
           "colorbar": {
            "outlinewidth": 0,
            "ticks": ""
           }
          },
          "colorscale": {
           "diverging": [
            [
             0,
             "#8e0152"
            ],
            [
             0.1,
             "#c51b7d"
            ],
            [
             0.2,
             "#de77ae"
            ],
            [
             0.3,
             "#f1b6da"
            ],
            [
             0.4,
             "#fde0ef"
            ],
            [
             0.5,
             "#f7f7f7"
            ],
            [
             0.6,
             "#e6f5d0"
            ],
            [
             0.7,
             "#b8e186"
            ],
            [
             0.8,
             "#7fbc41"
            ],
            [
             0.9,
             "#4d9221"
            ],
            [
             1,
             "#276419"
            ]
           ],
           "sequential": [
            [
             0,
             "#0d0887"
            ],
            [
             0.1111111111111111,
             "#46039f"
            ],
            [
             0.2222222222222222,
             "#7201a8"
            ],
            [
             0.3333333333333333,
             "#9c179e"
            ],
            [
             0.4444444444444444,
             "#bd3786"
            ],
            [
             0.5555555555555556,
             "#d8576b"
            ],
            [
             0.6666666666666666,
             "#ed7953"
            ],
            [
             0.7777777777777778,
             "#fb9f3a"
            ],
            [
             0.8888888888888888,
             "#fdca26"
            ],
            [
             1,
             "#f0f921"
            ]
           ],
           "sequentialminus": [
            [
             0,
             "#0d0887"
            ],
            [
             0.1111111111111111,
             "#46039f"
            ],
            [
             0.2222222222222222,
             "#7201a8"
            ],
            [
             0.3333333333333333,
             "#9c179e"
            ],
            [
             0.4444444444444444,
             "#bd3786"
            ],
            [
             0.5555555555555556,
             "#d8576b"
            ],
            [
             0.6666666666666666,
             "#ed7953"
            ],
            [
             0.7777777777777778,
             "#fb9f3a"
            ],
            [
             0.8888888888888888,
             "#fdca26"
            ],
            [
             1,
             "#f0f921"
            ]
           ]
          },
          "colorway": [
           "#636efa",
           "#EF553B",
           "#00cc96",
           "#ab63fa",
           "#FFA15A",
           "#19d3f3",
           "#FF6692",
           "#B6E880",
           "#FF97FF",
           "#FECB52"
          ],
          "font": {
           "color": "#2a3f5f"
          },
          "geo": {
           "bgcolor": "white",
           "lakecolor": "white",
           "landcolor": "#E5ECF6",
           "showlakes": true,
           "showland": true,
           "subunitcolor": "white"
          },
          "hoverlabel": {
           "align": "left"
          },
          "hovermode": "closest",
          "mapbox": {
           "style": "light"
          },
          "paper_bgcolor": "white",
          "plot_bgcolor": "#E5ECF6",
          "polar": {
           "angularaxis": {
            "gridcolor": "white",
            "linecolor": "white",
            "ticks": ""
           },
           "bgcolor": "#E5ECF6",
           "radialaxis": {
            "gridcolor": "white",
            "linecolor": "white",
            "ticks": ""
           }
          },
          "scene": {
           "xaxis": {
            "backgroundcolor": "#E5ECF6",
            "gridcolor": "white",
            "gridwidth": 2,
            "linecolor": "white",
            "showbackground": true,
            "ticks": "",
            "zerolinecolor": "white"
           },
           "yaxis": {
            "backgroundcolor": "#E5ECF6",
            "gridcolor": "white",
            "gridwidth": 2,
            "linecolor": "white",
            "showbackground": true,
            "ticks": "",
            "zerolinecolor": "white"
           },
           "zaxis": {
            "backgroundcolor": "#E5ECF6",
            "gridcolor": "white",
            "gridwidth": 2,
            "linecolor": "white",
            "showbackground": true,
            "ticks": "",
            "zerolinecolor": "white"
           }
          },
          "shapedefaults": {
           "line": {
            "color": "#2a3f5f"
           }
          },
          "ternary": {
           "aaxis": {
            "gridcolor": "white",
            "linecolor": "white",
            "ticks": ""
           },
           "baxis": {
            "gridcolor": "white",
            "linecolor": "white",
            "ticks": ""
           },
           "bgcolor": "#E5ECF6",
           "caxis": {
            "gridcolor": "white",
            "linecolor": "white",
            "ticks": ""
           }
          },
          "title": {
           "x": 0.05
          },
          "xaxis": {
           "automargin": true,
           "gridcolor": "white",
           "linecolor": "white",
           "ticks": "",
           "title": {
            "standoff": 15
           },
           "zerolinecolor": "white",
           "zerolinewidth": 2
          },
          "yaxis": {
           "automargin": true,
           "gridcolor": "white",
           "linecolor": "white",
           "ticks": "",
           "title": {
            "standoff": 15
           },
           "zerolinecolor": "white",
           "zerolinewidth": 2
          }
         }
        },
        "title": {
         "text": "Distribution of classes"
        },
        "width": 1000,
        "xaxis": {
         "title": {
          "text": "Class"
         },
         "type": "category"
        },
        "yaxis": {
         "title": {
          "text": "Count"
         }
        }
       }
      },
      "text/html": [
       "<div>\n",
       "        \n",
       "        \n",
       "            <div id=\"b6ad6e37-1cb9-400a-ae5c-260948f6b701\" class=\"plotly-graph-div\" style=\"height:400px; width:1000px;\"></div>\n",
       "            <script type=\"text/javascript\">\n",
       "                require([\"plotly\"], function(Plotly) {\n",
       "                    window.PLOTLYENV=window.PLOTLYENV || {};\n",
       "                    \n",
       "                if (document.getElementById(\"b6ad6e37-1cb9-400a-ae5c-260948f6b701\")) {\n",
       "                    Plotly.newPlot(\n",
       "                        'b6ad6e37-1cb9-400a-ae5c-260948f6b701',\n",
       "                        [{\"marker\": {\"color\": [\"#354E3E\", \"#489565\", \"#fa8f4d\"]}, \"type\": \"bar\", \"x\": [\"H\", \"A\", \"D\"], \"y\": [2481, 1527, 1312]}],\n",
       "                        {\"height\": 400, \"template\": {\"data\": {\"bar\": [{\"error_x\": {\"color\": \"#2a3f5f\"}, \"error_y\": {\"color\": \"#2a3f5f\"}, \"marker\": {\"line\": {\"color\": \"#E5ECF6\", \"width\": 0.5}}, \"type\": \"bar\"}], \"barpolar\": [{\"marker\": {\"line\": {\"color\": \"#E5ECF6\", \"width\": 0.5}}, \"type\": \"barpolar\"}], \"carpet\": [{\"aaxis\": {\"endlinecolor\": \"#2a3f5f\", \"gridcolor\": \"white\", \"linecolor\": \"white\", \"minorgridcolor\": \"white\", \"startlinecolor\": \"#2a3f5f\"}, \"baxis\": {\"endlinecolor\": \"#2a3f5f\", \"gridcolor\": \"white\", \"linecolor\": \"white\", \"minorgridcolor\": \"white\", \"startlinecolor\": \"#2a3f5f\"}, \"type\": \"carpet\"}], \"choropleth\": [{\"colorbar\": {\"outlinewidth\": 0, \"ticks\": \"\"}, \"type\": \"choropleth\"}], \"contour\": [{\"colorbar\": {\"outlinewidth\": 0, \"ticks\": \"\"}, \"colorscale\": [[0.0, \"#0d0887\"], [0.1111111111111111, \"#46039f\"], [0.2222222222222222, \"#7201a8\"], [0.3333333333333333, \"#9c179e\"], [0.4444444444444444, \"#bd3786\"], [0.5555555555555556, \"#d8576b\"], [0.6666666666666666, \"#ed7953\"], [0.7777777777777778, \"#fb9f3a\"], [0.8888888888888888, \"#fdca26\"], [1.0, \"#f0f921\"]], \"type\": \"contour\"}], \"contourcarpet\": [{\"colorbar\": {\"outlinewidth\": 0, \"ticks\": \"\"}, \"type\": \"contourcarpet\"}], \"heatmap\": [{\"colorbar\": {\"outlinewidth\": 0, \"ticks\": \"\"}, \"colorscale\": [[0.0, \"#0d0887\"], [0.1111111111111111, \"#46039f\"], [0.2222222222222222, \"#7201a8\"], [0.3333333333333333, \"#9c179e\"], [0.4444444444444444, \"#bd3786\"], [0.5555555555555556, \"#d8576b\"], [0.6666666666666666, \"#ed7953\"], [0.7777777777777778, \"#fb9f3a\"], [0.8888888888888888, \"#fdca26\"], [1.0, \"#f0f921\"]], \"type\": \"heatmap\"}], \"heatmapgl\": [{\"colorbar\": {\"outlinewidth\": 0, \"ticks\": \"\"}, \"colorscale\": [[0.0, \"#0d0887\"], [0.1111111111111111, \"#46039f\"], [0.2222222222222222, \"#7201a8\"], [0.3333333333333333, \"#9c179e\"], [0.4444444444444444, \"#bd3786\"], [0.5555555555555556, \"#d8576b\"], [0.6666666666666666, \"#ed7953\"], [0.7777777777777778, \"#fb9f3a\"], [0.8888888888888888, \"#fdca26\"], [1.0, \"#f0f921\"]], \"type\": \"heatmapgl\"}], \"histogram\": [{\"marker\": {\"colorbar\": {\"outlinewidth\": 0, \"ticks\": \"\"}}, \"type\": \"histogram\"}], \"histogram2d\": [{\"colorbar\": {\"outlinewidth\": 0, \"ticks\": \"\"}, \"colorscale\": [[0.0, \"#0d0887\"], [0.1111111111111111, \"#46039f\"], [0.2222222222222222, \"#7201a8\"], [0.3333333333333333, \"#9c179e\"], [0.4444444444444444, \"#bd3786\"], [0.5555555555555556, \"#d8576b\"], [0.6666666666666666, \"#ed7953\"], [0.7777777777777778, \"#fb9f3a\"], [0.8888888888888888, \"#fdca26\"], [1.0, \"#f0f921\"]], \"type\": \"histogram2d\"}], \"histogram2dcontour\": [{\"colorbar\": {\"outlinewidth\": 0, \"ticks\": \"\"}, \"colorscale\": [[0.0, \"#0d0887\"], [0.1111111111111111, \"#46039f\"], [0.2222222222222222, \"#7201a8\"], [0.3333333333333333, \"#9c179e\"], [0.4444444444444444, \"#bd3786\"], [0.5555555555555556, \"#d8576b\"], [0.6666666666666666, \"#ed7953\"], [0.7777777777777778, \"#fb9f3a\"], [0.8888888888888888, \"#fdca26\"], [1.0, \"#f0f921\"]], \"type\": \"histogram2dcontour\"}], \"mesh3d\": [{\"colorbar\": {\"outlinewidth\": 0, \"ticks\": \"\"}, \"type\": \"mesh3d\"}], \"parcoords\": [{\"line\": {\"colorbar\": {\"outlinewidth\": 0, \"ticks\": \"\"}}, \"type\": \"parcoords\"}], \"pie\": [{\"automargin\": true, \"type\": \"pie\"}], \"scatter\": [{\"marker\": {\"colorbar\": {\"outlinewidth\": 0, \"ticks\": \"\"}}, \"type\": \"scatter\"}], \"scatter3d\": [{\"line\": {\"colorbar\": {\"outlinewidth\": 0, \"ticks\": \"\"}}, \"marker\": {\"colorbar\": {\"outlinewidth\": 0, \"ticks\": \"\"}}, \"type\": \"scatter3d\"}], \"scattercarpet\": [{\"marker\": {\"colorbar\": {\"outlinewidth\": 0, \"ticks\": \"\"}}, \"type\": \"scattercarpet\"}], \"scattergeo\": [{\"marker\": {\"colorbar\": {\"outlinewidth\": 0, \"ticks\": \"\"}}, \"type\": \"scattergeo\"}], \"scattergl\": [{\"marker\": {\"colorbar\": {\"outlinewidth\": 0, \"ticks\": \"\"}}, \"type\": \"scattergl\"}], \"scattermapbox\": [{\"marker\": {\"colorbar\": {\"outlinewidth\": 0, \"ticks\": \"\"}}, \"type\": \"scattermapbox\"}], \"scatterpolar\": [{\"marker\": {\"colorbar\": {\"outlinewidth\": 0, \"ticks\": \"\"}}, \"type\": \"scatterpolar\"}], \"scatterpolargl\": [{\"marker\": {\"colorbar\": {\"outlinewidth\": 0, \"ticks\": \"\"}}, \"type\": \"scatterpolargl\"}], \"scatterternary\": [{\"marker\": {\"colorbar\": {\"outlinewidth\": 0, \"ticks\": \"\"}}, \"type\": \"scatterternary\"}], \"surface\": [{\"colorbar\": {\"outlinewidth\": 0, \"ticks\": \"\"}, \"colorscale\": [[0.0, \"#0d0887\"], [0.1111111111111111, \"#46039f\"], [0.2222222222222222, \"#7201a8\"], [0.3333333333333333, \"#9c179e\"], [0.4444444444444444, \"#bd3786\"], [0.5555555555555556, \"#d8576b\"], [0.6666666666666666, \"#ed7953\"], [0.7777777777777778, \"#fb9f3a\"], [0.8888888888888888, \"#fdca26\"], [1.0, \"#f0f921\"]], \"type\": \"surface\"}], \"table\": [{\"cells\": {\"fill\": {\"color\": \"#EBF0F8\"}, \"line\": {\"color\": \"white\"}}, \"header\": {\"fill\": {\"color\": \"#C8D4E3\"}, \"line\": {\"color\": \"white\"}}, \"type\": \"table\"}]}, \"layout\": {\"annotationdefaults\": {\"arrowcolor\": \"#2a3f5f\", \"arrowhead\": 0, \"arrowwidth\": 1}, \"coloraxis\": {\"colorbar\": {\"outlinewidth\": 0, \"ticks\": \"\"}}, \"colorscale\": {\"diverging\": [[0, \"#8e0152\"], [0.1, \"#c51b7d\"], [0.2, \"#de77ae\"], [0.3, \"#f1b6da\"], [0.4, \"#fde0ef\"], [0.5, \"#f7f7f7\"], [0.6, \"#e6f5d0\"], [0.7, \"#b8e186\"], [0.8, \"#7fbc41\"], [0.9, \"#4d9221\"], [1, \"#276419\"]], \"sequential\": [[0.0, \"#0d0887\"], [0.1111111111111111, \"#46039f\"], [0.2222222222222222, \"#7201a8\"], [0.3333333333333333, \"#9c179e\"], [0.4444444444444444, \"#bd3786\"], [0.5555555555555556, \"#d8576b\"], [0.6666666666666666, \"#ed7953\"], [0.7777777777777778, \"#fb9f3a\"], [0.8888888888888888, \"#fdca26\"], [1.0, \"#f0f921\"]], \"sequentialminus\": [[0.0, \"#0d0887\"], [0.1111111111111111, \"#46039f\"], [0.2222222222222222, \"#7201a8\"], [0.3333333333333333, \"#9c179e\"], [0.4444444444444444, \"#bd3786\"], [0.5555555555555556, \"#d8576b\"], [0.6666666666666666, \"#ed7953\"], [0.7777777777777778, \"#fb9f3a\"], [0.8888888888888888, \"#fdca26\"], [1.0, \"#f0f921\"]]}, \"colorway\": [\"#636efa\", \"#EF553B\", \"#00cc96\", \"#ab63fa\", \"#FFA15A\", \"#19d3f3\", \"#FF6692\", \"#B6E880\", \"#FF97FF\", \"#FECB52\"], \"font\": {\"color\": \"#2a3f5f\"}, \"geo\": {\"bgcolor\": \"white\", \"lakecolor\": \"white\", \"landcolor\": \"#E5ECF6\", \"showlakes\": true, \"showland\": true, \"subunitcolor\": \"white\"}, \"hoverlabel\": {\"align\": \"left\"}, \"hovermode\": \"closest\", \"mapbox\": {\"style\": \"light\"}, \"paper_bgcolor\": \"white\", \"plot_bgcolor\": \"#E5ECF6\", \"polar\": {\"angularaxis\": {\"gridcolor\": \"white\", \"linecolor\": \"white\", \"ticks\": \"\"}, \"bgcolor\": \"#E5ECF6\", \"radialaxis\": {\"gridcolor\": \"white\", \"linecolor\": \"white\", \"ticks\": \"\"}}, \"scene\": {\"xaxis\": {\"backgroundcolor\": \"#E5ECF6\", \"gridcolor\": \"white\", \"gridwidth\": 2, \"linecolor\": \"white\", \"showbackground\": true, \"ticks\": \"\", \"zerolinecolor\": \"white\"}, \"yaxis\": {\"backgroundcolor\": \"#E5ECF6\", \"gridcolor\": \"white\", \"gridwidth\": 2, \"linecolor\": \"white\", \"showbackground\": true, \"ticks\": \"\", \"zerolinecolor\": \"white\"}, \"zaxis\": {\"backgroundcolor\": \"#E5ECF6\", \"gridcolor\": \"white\", \"gridwidth\": 2, \"linecolor\": \"white\", \"showbackground\": true, \"ticks\": \"\", \"zerolinecolor\": \"white\"}}, \"shapedefaults\": {\"line\": {\"color\": \"#2a3f5f\"}}, \"ternary\": {\"aaxis\": {\"gridcolor\": \"white\", \"linecolor\": \"white\", \"ticks\": \"\"}, \"baxis\": {\"gridcolor\": \"white\", \"linecolor\": \"white\", \"ticks\": \"\"}, \"bgcolor\": \"#E5ECF6\", \"caxis\": {\"gridcolor\": \"white\", \"linecolor\": \"white\", \"ticks\": \"\"}}, \"title\": {\"x\": 0.05}, \"xaxis\": {\"automargin\": true, \"gridcolor\": \"white\", \"linecolor\": \"white\", \"ticks\": \"\", \"title\": {\"standoff\": 15}, \"zerolinecolor\": \"white\", \"zerolinewidth\": 2}, \"yaxis\": {\"automargin\": true, \"gridcolor\": \"white\", \"linecolor\": \"white\", \"ticks\": \"\", \"title\": {\"standoff\": 15}, \"zerolinecolor\": \"white\", \"zerolinewidth\": 2}}}, \"title\": {\"text\": \"Distribution of classes\"}, \"width\": 1000, \"xaxis\": {\"title\": {\"text\": \"Class\"}, \"type\": \"category\"}, \"yaxis\": {\"title\": {\"text\": \"Count\"}}},\n",
       "                        {\"responsive\": true}\n",
       "                    ).then(function(){\n",
       "                            \n",
       "var gd = document.getElementById('b6ad6e37-1cb9-400a-ae5c-260948f6b701');\n",
       "var x = new MutationObserver(function (mutations, observer) {{\n",
       "        var display = window.getComputedStyle(gd).display;\n",
       "        if (!display || display === 'none') {{\n",
       "            console.log([gd, 'removed!']);\n",
       "            Plotly.purge(gd);\n",
       "            observer.disconnect();\n",
       "        }}\n",
       "}});\n",
       "\n",
       "// Listen for the removal of the full notebook cells\n",
       "var notebookContainer = gd.closest('#notebook-container');\n",
       "if (notebookContainer) {{\n",
       "    x.observe(notebookContainer, {childList: true});\n",
       "}}\n",
       "\n",
       "// Listen for the clearing of the current output cell\n",
       "var outputEl = gd.closest('.output');\n",
       "if (outputEl) {{\n",
       "    x.observe(outputEl, {childList: true});\n",
       "}}\n",
       "\n",
       "                        })\n",
       "                };\n",
       "                });\n",
       "            </script>\n",
       "        </div>"
      ]
     },
     "metadata": {},
     "output_type": "display_data"
    }
   ],
   "source": [
    "fig = go.Figure()\n",
    "fig = fig.add_trace(go.Bar(x=class_dist.index, y= class_dist[\"Count\"],\n",
    "                       marker_color=['#354E3E', '#489565', '#fa8f4d']))\n",
    "fig.update_layout(xaxis_type='category', title_text=\"Distribution of classes\", width=1000, height=400, xaxis_title=\"Class\", yaxis_title=\"Count\")\n",
    "fig.show()"
   ]
  },
  {
   "cell_type": "code",
   "execution_count": null,
   "metadata": {},
   "outputs": [],
   "source": []
  }
 ],
 "metadata": {
  "kernelspec": {
   "display_name": "Python 3",
   "language": "python",
   "name": "python3"
  },
  "language_info": {
   "codemirror_mode": {
    "name": "ipython",
    "version": 3
   },
   "file_extension": ".py",
   "mimetype": "text/x-python",
   "name": "python",
   "nbconvert_exporter": "python",
   "pygments_lexer": "ipython3",
   "version": "3.7.3"
  }
 },
 "nbformat": 4,
 "nbformat_minor": 2
}
